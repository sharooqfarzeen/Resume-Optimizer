{
 "cells": [
  {
   "cell_type": "code",
   "execution_count": 14,
   "metadata": {},
   "outputs": [],
   "source": [
    "import fitz  # PyMuPDF\n",
    "from PIL import Image\n",
    "import io\n",
    "\n",
    "def pdf_to_images(file_object, max_pages=5, dpi=150):\n",
    "    # Open the PDF file using PyMuPDF with a file-like object\n",
    "    pdf_document = fitz.open(stream=file_object.read(), filetype=\"pdf\")\n",
    "    images = []\n",
    "    \n",
    "    # Loop through each page up to the maximum specified\n",
    "    for page_number in range(min(max_pages, pdf_document.page_count)):\n",
    "        page = pdf_document.load_page(page_number)   # Load page\n",
    "        pix = page.get_pixmap(dpi=dpi)               # Render page to image with specified DPI\n",
    "        \n",
    "        # Convert the Pixmap to a PIL image\n",
    "        img = Image.open(io.BytesIO(pix.tobytes(\"png\")))\n",
    "        images.append(img)\n",
    "        \n",
    "    pdf_document.close()\n",
    "    return images"
   ]
  }
 ],
 "metadata": {
  "kernelspec": {
   "display_name": "Python 3 (ipykernel)",
   "language": "python",
   "name": "python3"
  },
  "language_info": {
   "codemirror_mode": {
    "name": "ipython",
    "version": 3
   },
   "file_extension": ".py",
   "mimetype": "text/x-python",
   "name": "python",
   "nbconvert_exporter": "python",
   "pygments_lexer": "ipython3",
   "version": "3.11.4"
  }
 },
 "nbformat": 4,
 "nbformat_minor": 2
}
